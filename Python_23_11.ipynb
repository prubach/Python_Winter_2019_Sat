{
 "cells": [
  {
   "cell_type": "code",
   "execution_count": 8,
   "metadata": {},
   "outputs": [
    {
     "name": "stdout",
     "output_type": "stream",
     "text": [
      "[1, 2, 3, 4]\n",
      "[2, 3]\n",
      "3\n",
      "[1, 2, 3, 4, 5]\n",
      "[1, 2, 3, 4, 5, 6, 7]\n",
      "1\n",
      "2\n",
      "3\n",
      "4\n",
      "5\n",
      "6\n",
      "7\n"
     ]
    }
   ],
   "source": [
    "x = [1, 2 , 3, 4]\n",
    "print(x)\n",
    "print(x[1:3])\n",
    "print(x[-2])\n",
    "x.append(5)\n",
    "print(x)\n",
    "x.extend([6, 7])\n",
    "print(x)\n",
    "\n",
    "for i in x:\n",
    "    print(i)"
   ]
  },
  {
   "cell_type": "code",
   "execution_count": 13,
   "metadata": {},
   "outputs": [
    {
     "name": "stdout",
     "output_type": "stream",
     "text": [
      "[31, 56, 87, 567]\n",
      "[567, 87, 56, 31]\n",
      "[567, 87, 56, 31, [3454, 36, 764]]\n",
      "[3454, 36, 764]\n",
      "36\n"
     ]
    }
   ],
   "source": [
    "y = [ 56, 567, 31, 87]\n",
    "y.sort()\n",
    "print(y)\n",
    "y.sort(reverse=True)\n",
    "print(y)\n",
    "y.append([3454, 36, 764])\n",
    "print(y)\n",
    "print(y[4])\n",
    "print(y[4][1])"
   ]
  },
  {
   "cell_type": "code",
   "execution_count": 17,
   "metadata": {},
   "outputs": [
    {
     "name": "stdout",
     "output_type": "stream",
     "text": [
      "(1, 4, 5)\n",
      "1\n",
      "4\n",
      "5\n",
      "60\n",
      "500\n"
     ]
    }
   ],
   "source": [
    "# Tuple\n",
    "k = (1, 4, 5)\n",
    "print(k)\n",
    "for i in k:\n",
    "    print(i)\n",
    "    \n",
    "(age, income) = \"60,500\".split(\",\")\n",
    "print(age)\n",
    "print(income)"
   ]
  },
  {
   "cell_type": "code",
   "execution_count": 22,
   "metadata": {},
   "outputs": [
    {
     "name": "stdout",
     "output_type": "stream",
     "text": [
      "{8, 3, 4, 6}\n",
      "{8, 3, 4, 6}\n",
      "{3, 4, 6, 8, 9}\n"
     ]
    }
   ],
   "source": [
    "# Set\n",
    "a = {3, 4, 6, 8}\n",
    "print(a)\n",
    "b = {3, 4, 6, 8, 3, 4}\n",
    "print(b)\n",
    "b.add(9)\n",
    "b.add(3)\n",
    "print(b)"
   ]
  },
  {
   "cell_type": "code",
   "execution_count": 27,
   "metadata": {},
   "outputs": [
    {
     "name": "stdout",
     "output_type": "stream",
     "text": [
      "k1=val\n",
      "k2=val2\n",
      "key3=val3\n",
      "val\n",
      "val\n"
     ]
    }
   ],
   "source": [
    "d = { \"k1\": 'val', 'k2': 'val2'}\n",
    "d['key3'] = 'val3'\n",
    "for i in d.keys():\n",
    "    print(i + \"=\" + d[i])\n",
    "print(d.get('k1'))\n",
    "print(d['k1'])"
   ]
  },
  {
   "cell_type": "code",
   "execution_count": 28,
   "metadata": {},
   "outputs": [],
   "source": [
    "f = 'out.txt'\n",
    "with open(f, 'w') as out_file:\n",
    "    out_file.write(\"Pierwsza linia\\n\")\n",
    "    out_file.write(\"Druga linia\")"
   ]
  },
  {
   "cell_type": "code",
   "execution_count": 38,
   "metadata": {},
   "outputs": [
    {
     "name": "stdout",
     "output_type": "stream",
     "text": [
      "Pierwsza linia\n",
      "\n",
      "Druga linia\n"
     ]
    }
   ],
   "source": [
    "f = 'out.txt'\n",
    "with open(f, 'r') as in_file:\n",
    "    plik = in_file.readlines()\n",
    "    for i in plik:\n",
    "        print(i)\n",
    "#    while line:\n",
    "#        print(line)\n",
    "#        line = in_file.readline()"
   ]
  },
  {
   "cell_type": "code",
   "execution_count": 46,
   "metadata": {},
   "outputs": [
    {
     "name": "stdout",
     "output_type": "stream",
     "text": [
      "H:\\python_sob\n"
     ]
    }
   ],
   "source": [
    "d = { \"k1\": 'val', 'k2': 'val2'}\n",
    "d['key3'] = 'val3'\n",
    "\n",
    "import os\n",
    "print(os.getcwd())\n",
    "\n",
    "\n",
    "import _pickle\n",
    "#f = 'out.bin'\n",
    "f = r'.\\temp\\out.bin'\n",
    "#f = 'h:\\\\Python_sob\\\\out.bin'\n",
    "with open(f, 'wb') as outfile:\n",
    "    _pickle.dump(d, outfile)"
   ]
  },
  {
   "cell_type": "code",
   "execution_count": 48,
   "metadata": {},
   "outputs": [
    {
     "name": "stdout",
     "output_type": "stream",
     "text": [
      "{'k1': 'val', 'k2': 'val2', 'key3': 'val3'}\n"
     ]
    }
   ],
   "source": [
    "f = r'..\\temp\\out.bin'\n",
    "with open(f, 'rb') as infile:\n",
    "    out_d = _pickle.load(infile)\n",
    "print(out_d)"
   ]
  },
  {
   "cell_type": "code",
   "execution_count": 51,
   "metadata": {},
   "outputs": [
    {
     "name": "stdout",
     "output_type": "stream",
     "text": [
      "['CP_winter_2017', 'out.bin']\n",
      "False\n",
      "True\n",
      "0\n",
      "True\n",
      "False\n",
      "69\n"
     ]
    }
   ],
   "source": [
    "dir = 'h:\\\\temp'\n",
    "pliki = os.listdir(dir)\n",
    "print(pliki)\n",
    "for i in pliki:\n",
    "    sciezka = os.path.join(dir, i)\n",
    "    print(os.path.isfile(sciezka))\n",
    "    print(os.path.isdir(sciezka))\n",
    "    print(os.path.getsize(sciezka))"
   ]
  }
 ],
 "metadata": {
  "kernelspec": {
   "display_name": "Python 3",
   "language": "python",
   "name": "python3"
  },
  "language_info": {
   "codemirror_mode": {
    "name": "ipython",
    "version": 3
   },
   "file_extension": ".py",
   "mimetype": "text/x-python",
   "name": "python",
   "nbconvert_exporter": "python",
   "pygments_lexer": "ipython3",
   "version": "3.7.3"
  }
 },
 "nbformat": 4,
 "nbformat_minor": 2
}
